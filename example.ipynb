{
 "cells": [
  {
   "cell_type": "code",
   "execution_count": 1,
   "source": [
    "import logging\n",
    "import datetime\n",
    "import os\n",
    "import re\n",
    "import pandas as pd\n",
    "import numpy as np\n",
    "import matplotlib.pyplot as plt\n",
    "import getpass\n",
    "import seaborn as sns\n",
    "import copy\n",
    "from schema_buddy import SchemaBuddy\n",
    "from custom_pipelines import PdFeatureUnion, Pandify, SelectCols, DropCols, TruncOrdinalFreqEncoder, OHE, CategoryFrequency\n",
    "\n",
    "from sklearn.base import BaseEstimator, TransformerMixin\n",
    "from sklearn.preprocessing import StandardScaler, FunctionTransformer, QuantileTransformer, RobustScaler\n",
    "from sklearn.ensemble import GradientBoostingClassifier, RandomForestClassifier\n",
    "from sklearn.model_selection import StratifiedShuffleSplit\n",
    "from sklearn.pipeline import Pipeline, make_pipeline\n",
    "from sklearn.impute import SimpleImputer\n",
    "from sklearn.model_selection import cross_val_score, cross_validate\n",
    "from sklearn.linear_model import LogisticRegression\n",
    "from sklearn.tree import DecisionTreeClassifier\n",
    "from sklearn import tree\n",
    "from sklearn.metrics import recall_score, precision_score, accuracy_score, f1_score, precision_recall_curve, auc, roc_auc_score, confusion_matrix\n",
    "from pandas_profiling import ProfileReport\n",
    "from janitor import transform_column, rename_columns, filter_column_isin, select_columns, drop_constant_columns\n",
    "\n",
    "pd.options.mode.chained_assignment = None  # default='warn'"
   ],
   "outputs": [],
   "metadata": {}
  },
  {
   "cell_type": "code",
   "execution_count": null,
   "source": [
    "matplotlib.use_backend()"
   ],
   "outputs": [],
   "metadata": {}
  },
  {
   "cell_type": "code",
   "execution_count": null,
   "source": [],
   "outputs": [],
   "metadata": {}
  },
  {
   "cell_type": "code",
   "execution_count": 2,
   "source": [
    "df = pd.read_csv(\"./data/GameStats.csv\")\n",
    "df.head()"
   ],
   "outputs": [],
   "metadata": {}
  },
  {
   "cell_type": "code",
   "execution_count": 4,
   "source": [
    "# schema buddy configuration file\n",
    "conf = {\n",
    "    \"taget_col\": \"IsWin\",\n",
    "    \"vtype_override\": {}\n",
    "}"
   ],
   "outputs": [],
   "metadata": {}
  },
  {
   "cell_type": "code",
   "execution_count": 5,
   "source": [
    "schema = SchemaBuddy(df, conf)"
   ],
   "outputs": [],
   "metadata": {}
  },
  {
   "cell_type": "raw",
   "source": [
    "# Difference between unique and distinct according to pandas profiler\n",
    "\n",
    "# Distinct: The number or percentage of values that are different from each other.\n",
    "# Unique: The number or percentage of values that have no duplicates.\n",
    "\n",
    "[\"a\", \"a\", \n",
    " \"b\", \"b\", \n",
    " \"c\", \"c\"]\n",
    "\n",
    "distinct = 3\n",
    "unique = 0"
   ],
   "metadata": {}
  },
  {
   "cell_type": "code",
   "execution_count": 6,
   "source": [
    "schema.get_styled_variables_summary()"
   ],
   "outputs": [
    {
     "output_type": "execute_result",
     "data": {
      "text/html": [
       "<style type=\"text/css\">\n",
       "#T_73384_row0_col2, #T_73384_row1_col2, #T_73384_row2_col2, #T_73384_row3_col2, #T_73384_row3_col5, #T_73384_row3_col6, #T_73384_row4_col2, #T_73384_row4_col5, #T_73384_row4_col6, #T_73384_row5_col2, #T_73384_row5_col6, #T_73384_row6_col2, #T_73384_row6_col6 {\n",
       "  width: 10em;\n",
       "  height: 80%;\n",
       "}\n",
       "#T_73384_row0_col3, #T_73384_row0_col4 {\n",
       "  width: 10em;\n",
       "  height: 80%;\n",
       "  background: linear-gradient(90deg,#5fba7d 0.0%, transparent 0.0%);\n",
       "}\n",
       "#T_73384_row1_col3, #T_73384_row1_col4 {\n",
       "  width: 10em;\n",
       "  height: 80%;\n",
       "  background: linear-gradient(90deg,#5fba7d 99.7%, transparent 99.7%);\n",
       "}\n",
       "#T_73384_row2_col3, #T_73384_row2_col4, #T_73384_row3_col3, #T_73384_row3_col4 {\n",
       "  width: 10em;\n",
       "  height: 80%;\n",
       "  background: linear-gradient(90deg,#5fba7d 0.3%, transparent 0.3%);\n",
       "}\n",
       "#T_73384_row4_col3, #T_73384_row4_col4, #T_73384_row5_col5 {\n",
       "  width: 10em;\n",
       "  height: 80%;\n",
       "  background: linear-gradient(90deg,#5fba7d 100.0%, transparent 100.0%);\n",
       "}\n",
       "#T_73384_row5_col3, #T_73384_row5_col4 {\n",
       "  width: 10em;\n",
       "  height: 80%;\n",
       "  background: linear-gradient(90deg,#5fba7d 2.6%, transparent 2.6%);\n",
       "}\n",
       "#T_73384_row6_col3, #T_73384_row6_col4 {\n",
       "  width: 10em;\n",
       "  height: 80%;\n",
       "  background: linear-gradient(90deg,#5fba7d 99.8%, transparent 99.8%);\n",
       "}\n",
       "#T_73384_row6_col5 {\n",
       "  width: 10em;\n",
       "  height: 80%;\n",
       "  background: linear-gradient(90deg,#5fba7d 5.8%, transparent 5.8%);\n",
       "}\n",
       "</style>\n",
       "<table id=\"T_73384_\">\n",
       "  <thead>\n",
       "    <tr>\n",
       "      <th class=\"blank level0\" >&nbsp;</th>\n",
       "      <th class=\"col_heading level0 col0\" >vtype</th>\n",
       "      <th class=\"col_heading level0 col1\" >is_unique</th>\n",
       "      <th class=\"col_heading level0 col2\" >n_missing</th>\n",
       "      <th class=\"col_heading level0 col3\" >n_distinct</th>\n",
       "      <th class=\"col_heading level0 col4\" >p_distinct</th>\n",
       "      <th class=\"col_heading level0 col5\" >p_zeros</th>\n",
       "      <th class=\"col_heading level0 col6\" >p_negative</th>\n",
       "      <th class=\"col_heading level0 col7\" >vtype_override</th>\n",
       "      <th class=\"col_heading level0 col8\" >dtype</th>\n",
       "    </tr>\n",
       "  </thead>\n",
       "  <tbody>\n",
       "    <tr>\n",
       "      <th id=\"T_73384_level0_row0\" class=\"row_heading level0 row0\" >IsWin</th>\n",
       "      <td id=\"T_73384_row0_col0\" class=\"data row0 col0\" >boolean</td>\n",
       "      <td id=\"T_73384_row0_col1\" class=\"data row0 col1\" >False</td>\n",
       "      <td id=\"T_73384_row0_col2\" class=\"data row0 col2\" >0.000</td>\n",
       "      <td id=\"T_73384_row0_col3\" class=\"data row0 col3\" >2.000</td>\n",
       "      <td id=\"T_73384_row0_col4\" class=\"data row0 col4\" >0.000</td>\n",
       "      <td id=\"T_73384_row0_col5\" class=\"data row0 col5\" >.</td>\n",
       "      <td id=\"T_73384_row0_col6\" class=\"data row0 col6\" >.</td>\n",
       "      <td id=\"T_73384_row0_col7\" class=\"data row0 col7\" >False</td>\n",
       "      <td id=\"T_73384_row0_col8\" class=\"data row0 col8\" >boolean</td>\n",
       "    </tr>\n",
       "    <tr>\n",
       "      <th id=\"T_73384_level0_row1\" class=\"row_heading level0 row1\" >Date</th>\n",
       "      <td id=\"T_73384_row1_col0\" class=\"data row1 col0\" >categorical</td>\n",
       "      <td id=\"T_73384_row1_col1\" class=\"data row1 col1\" >False</td>\n",
       "      <td id=\"T_73384_row1_col2\" class=\"data row1 col2\" >0.000</td>\n",
       "      <td id=\"T_73384_row1_col3\" class=\"data row1 col3\" >6770.000</td>\n",
       "      <td id=\"T_73384_row1_col4\" class=\"data row1 col4\" >0.994</td>\n",
       "      <td id=\"T_73384_row1_col5\" class=\"data row1 col5\" >.</td>\n",
       "      <td id=\"T_73384_row1_col6\" class=\"data row1 col6\" >.</td>\n",
       "      <td id=\"T_73384_row1_col7\" class=\"data row1 col7\" >False</td>\n",
       "      <td id=\"T_73384_row1_col8\" class=\"data row1 col8\" >string</td>\n",
       "    </tr>\n",
       "    <tr>\n",
       "      <th id=\"T_73384_level0_row2\" class=\"row_heading level0 row2\" >Level</th>\n",
       "      <td id=\"T_73384_row2_col0\" class=\"data row2 col0\" >categorical</td>\n",
       "      <td id=\"T_73384_row2_col1\" class=\"data row2 col1\" >False</td>\n",
       "      <td id=\"T_73384_row2_col2\" class=\"data row2 col2\" >0.000</td>\n",
       "      <td id=\"T_73384_row2_col3\" class=\"data row2 col3\" >19.000</td>\n",
       "      <td id=\"T_73384_row2_col4\" class=\"data row2 col4\" >0.003</td>\n",
       "      <td id=\"T_73384_row2_col5\" class=\"data row2 col5\" >.</td>\n",
       "      <td id=\"T_73384_row2_col6\" class=\"data row2 col6\" >.</td>\n",
       "      <td id=\"T_73384_row2_col7\" class=\"data row2 col7\" >False</td>\n",
       "      <td id=\"T_73384_row2_col8\" class=\"data row2 col8\" >string</td>\n",
       "    </tr>\n",
       "    <tr>\n",
       "      <th id=\"T_73384_level0_row3\" class=\"row_heading level0 row3\" >NumBlocks</th>\n",
       "      <td id=\"T_73384_row3_col0\" class=\"data row3 col0\" >numeric</td>\n",
       "      <td id=\"T_73384_row3_col1\" class=\"data row3 col1\" >False</td>\n",
       "      <td id=\"T_73384_row3_col2\" class=\"data row3 col2\" >0.000</td>\n",
       "      <td id=\"T_73384_row3_col3\" class=\"data row3 col3\" >18.000</td>\n",
       "      <td id=\"T_73384_row3_col4\" class=\"data row3 col4\" >0.003</td>\n",
       "      <td id=\"T_73384_row3_col5\" class=\"data row3 col5\" >0.000</td>\n",
       "      <td id=\"T_73384_row3_col6\" class=\"data row3 col6\" >0.000</td>\n",
       "      <td id=\"T_73384_row3_col7\" class=\"data row3 col7\" >False</td>\n",
       "      <td id=\"T_73384_row3_col8\" class=\"data row3 col8\" >Int64</td>\n",
       "    </tr>\n",
       "    <tr>\n",
       "      <th id=\"T_73384_level0_row4\" class=\"row_heading level0 row4\" >ElapsedTime</th>\n",
       "      <td id=\"T_73384_row4_col0\" class=\"data row4 col0\" >numeric</td>\n",
       "      <td id=\"T_73384_row4_col1\" class=\"data row4 col1\" >False</td>\n",
       "      <td id=\"T_73384_row4_col2\" class=\"data row4 col2\" >0.000</td>\n",
       "      <td id=\"T_73384_row4_col3\" class=\"data row4 col3\" >6789.000</td>\n",
       "      <td id=\"T_73384_row4_col4\" class=\"data row4 col4\" >0.996</td>\n",
       "      <td id=\"T_73384_row4_col5\" class=\"data row4 col5\" >0.000</td>\n",
       "      <td id=\"T_73384_row4_col6\" class=\"data row4 col6\" >0.000</td>\n",
       "      <td id=\"T_73384_row4_col7\" class=\"data row4 col7\" >False</td>\n",
       "      <td id=\"T_73384_row4_col8\" class=\"data row4 col8\" >Float64</td>\n",
       "    </tr>\n",
       "    <tr>\n",
       "      <th id=\"T_73384_level0_row5\" class=\"row_heading level0 row5\" >Score</th>\n",
       "      <td id=\"T_73384_row5_col0\" class=\"data row5 col0\" >numeric</td>\n",
       "      <td id=\"T_73384_row5_col1\" class=\"data row5 col1\" >False</td>\n",
       "      <td id=\"T_73384_row5_col2\" class=\"data row5 col2\" >0.000</td>\n",
       "      <td id=\"T_73384_row5_col3\" class=\"data row5 col3\" >176.000</td>\n",
       "      <td id=\"T_73384_row5_col4\" class=\"data row5 col4\" >0.026</td>\n",
       "      <td id=\"T_73384_row5_col5\" class=\"data row5 col5\" >0.041</td>\n",
       "      <td id=\"T_73384_row5_col6\" class=\"data row5 col6\" >0.000</td>\n",
       "      <td id=\"T_73384_row5_col7\" class=\"data row5 col7\" >False</td>\n",
       "      <td id=\"T_73384_row5_col8\" class=\"data row5 col8\" >Int64</td>\n",
       "    </tr>\n",
       "    <tr>\n",
       "      <th id=\"T_73384_level0_row6\" class=\"row_heading level0 row6\" >Accuracy</th>\n",
       "      <td id=\"T_73384_row6_col0\" class=\"data row6 col0\" >numeric</td>\n",
       "      <td id=\"T_73384_row6_col1\" class=\"data row6 col1\" >False</td>\n",
       "      <td id=\"T_73384_row6_col2\" class=\"data row6 col2\" >0.000</td>\n",
       "      <td id=\"T_73384_row6_col3\" class=\"data row6 col3\" >6778.000</td>\n",
       "      <td id=\"T_73384_row6_col4\" class=\"data row6 col4\" >0.995</td>\n",
       "      <td id=\"T_73384_row6_col5\" class=\"data row6 col5\" >0.002</td>\n",
       "      <td id=\"T_73384_row6_col6\" class=\"data row6 col6\" >0.000</td>\n",
       "      <td id=\"T_73384_row6_col7\" class=\"data row6 col7\" >False</td>\n",
       "      <td id=\"T_73384_row6_col8\" class=\"data row6 col8\" >Float64</td>\n",
       "    </tr>\n",
       "  </tbody>\n",
       "</table>\n"
      ],
      "text/plain": [
       "<pandas.io.formats.style.Styler at 0x1307a6730>"
      ]
     },
     "metadata": {},
     "execution_count": 6
    }
   ],
   "metadata": {}
  },
  {
   "cell_type": "markdown",
   "source": [
    "# EDA by variable type"
   ],
   "metadata": {}
  },
  {
   "cell_type": "code",
   "execution_count": 9,
   "source": [
    "# look at linear correlation of numerical features\n",
    "bookkeeper = schema.get_bookkeeper()\n",
    "\n",
    "use_cols = bookkeeper.pop_vtype(\"numeric\")\n",
    "\n",
    "plt.figure(figsize=(30,15))\n",
    "corr = df[use_cols].corr()\n",
    "mask = np.triu(np.ones_like(corr, dtype=bool))\n",
    "sns.heatmap(corr.round(2), annot=True, mask=mask)\n",
    "plt.xticks(rotation=45, ha=\"right\")\n",
    "plt.show()"
   ],
   "outputs": [
    {
     "output_type": "stream",
     "name": "stderr",
     "text": [
      "/var/folders/c9/6bxg0cpd3g70s476wjrwh8zw0000gq/T/ipykernel_64529/2512516860.py:11: UserWarning: Matplotlib is currently using agg, which is a non-GUI backend, so cannot show the figure.\n",
      "  plt.show()\n"
     ]
    }
   ],
   "metadata": {}
  },
  {
   "cell_type": "code",
   "execution_count": 19,
   "source": [
    "def get_feature_preprocessor(schema):\n",
    "    # TODO features indicating if value was imputed\n",
    "    bookkeeper = schema.get_bookkeeper()\n",
    "    \n",
    "    drop_list = [\n",
    "        \"beta\",\n",
    "        \"severity\",\n",
    "        \"category\",\n",
    "        \"confidence\",\n",
    "        \"sub_category\",\n",
    "        \"started_time\",\n",
    "        \"fk_participant_id\",\n",
    "        \"flows_dst_port\",\n",
    "        \"flows_app_domains\",\n",
    "        \"flows_app_domains_domain_with_suffix\",\n",
    "        \"flows_domain_registered_period\",\n",
    "        \"flows_domain_threat_profile\",  # highly correlated\n",
    "        \"flows_domain_threat_phishing\", # highly correlated\n",
    "        \"flows_domain_threat_proximity\", # highly correlated\n",
    "        \"flows_threat_intel_domain_match\",\n",
    "        \"flows_threat_intel_ip_match\",        \n",
    "    ] + rank_features\n",
    "    \n",
    "    num_passthrough_list = [\n",
    "        \"flows_tld_domain_norm_indegree\",\n",
    "        \"flows_domain_norm_indegree\",\n",
    "    ]\n",
    "    \n",
    "    bookkeeper.pop_cols(drop_list)\n",
    "    \n",
    "    preprocessor = Pipeline([\n",
    "        ('union', PdFeatureUnion([\n",
    "            ('num_pass', Pipeline([\n",
    "                ('select', SelectCols(bookkeeper.pop_cols(num_passthrough_list), strict=False)),\n",
    "                ('impute', Pandify(SimpleImputer(strategy=\"constant\", fill_value=0.0)))\n",
    "            ])),\n",
    "            ('num', Pipeline([\n",
    "                ('select', SelectCols(bookkeeper.pop_vtype(\"numeric\"), strict=False)),\n",
    "                ('scale', Pandify(QuantileTransformer())),\n",
    "                ('impute', Pandify(SimpleImputer(strategy=\"constant\", fill_value=0.0)))\n",
    "            ])),\n",
    "            ('bool', Pipeline([\n",
    "                ('select', SelectCols(bookkeeper.pop_vtype(\"boolean\"), strict=False)),\n",
    "                ('bool2float', Pandify(FunctionTransformer(lambda x: pd.DataFrame(x).astype(float)))),\n",
    "                ('impute', Pandify(SimpleImputer(strategy=\"constant\", fill_value=0.0)))\n",
    "            ])),\n",
    "            ('cat', Pipeline([\n",
    "                ('select', SelectCols(bookkeeper.pop_vtype(\"categorical\"), strict=False)),\n",
    "                ('cat2freq', CategoryFrequency(use_proportion=True)),\n",
    "                ('impute', Pandify(SimpleImputer(strategy=\"constant\", fill_value=0.0))),\n",
    "            ])),\n",
    "        ])), # close feature union\n",
    "    ]) # close pipeline\n",
    "    \n",
    "    bookkeeper.check()\n",
    "    \n",
    "    return preprocessor"
   ],
   "outputs": [],
   "metadata": {}
  },
  {
   "cell_type": "code",
   "execution_count": null,
   "source": [
    "X, y = get_xy(events_df, \"y_is_malicious\")\n",
    "preprocessor = get_feature_preprocessor(schema)\n",
    "cv = StratifiedShuffleSplit(n_splits=5, random_state=42)"
   ],
   "outputs": [],
   "metadata": {}
  },
  {
   "cell_type": "code",
   "execution_count": null,
   "source": [],
   "outputs": [],
   "metadata": {}
  },
  {
   "cell_type": "code",
   "execution_count": 22,
   "source": [
    "X, y = get_xy(events_df, \"y_is_malicious\")\n",
    "preprocessor = get_feature_preprocessor(schema)\n",
    "cv = StratifiedShuffleSplit(n_splits=5, random_state=42)\n",
    "models[\"LR_l1\"] = LogisticRegression(penalty=\"l1\", max_iter=1000, solver=\"saga\")"
   ],
   "outputs": [
    {
     "output_type": "stream",
     "name": "stdout",
     "text": [
      "All cols accounted\n"
     ]
    }
   ],
   "metadata": {}
  }
 ],
 "metadata": {
  "kernelspec": {
   "name": "python3",
   "display_name": "Python 3.9.7 64-bit ('schema-buddy': venv)"
  },
  "language_info": {
   "codemirror_mode": {
    "name": "ipython",
    "version": 3
   },
   "file_extension": ".py",
   "mimetype": "text/x-python",
   "name": "python",
   "nbconvert_exporter": "python",
   "pygments_lexer": "ipython3",
   "version": "3.9.7"
  },
  "interpreter": {
   "hash": "4602274853ff96d537e605758d9a9917256fec619e6db8cb5cd679c2188a0000"
  }
 },
 "nbformat": 4,
 "nbformat_minor": 5
}